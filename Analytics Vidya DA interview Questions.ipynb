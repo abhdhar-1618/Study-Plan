{
 "cells": [
  {
   "cell_type": "markdown",
   "id": "576441ae",
   "metadata": {},
   "source": [
    "## Website:- [Analytics Vidhya](https://www.analyticsvidhya.com/blog/2022/07/python-coding-interview-questions-for-freshers/)"
   ]
  },
  {
   "cell_type": "markdown",
   "id": "9245c231",
   "metadata": {},
   "source": [
    "Q1. Convert a given string to int using a single line of code."
   ]
  },
  {
   "cell_type": "code",
   "execution_count": 3,
   "id": "cb82fc89",
   "metadata": {},
   "outputs": [
    {
     "name": "stdout",
     "output_type": "stream",
     "text": [
      "5\n"
     ]
    }
   ],
   "source": [
    "# Ans:- We can convert a given string to an integer using a built-in function int(). e.g.-\n",
    "\n",
    "a = '5'\n",
    "print(int(a))\n",
    "\n",
    "# Variable ‘a’ is a string that is now converted to an integer, as shown below:"
   ]
  },
  {
   "cell_type": "markdown",
   "id": "1aa2bf8c",
   "metadata": {},
   "source": [
    "Q2. Write a code snippet to convert a string to a list."
   ]
  },
  {
   "cell_type": "code",
   "execution_count": 13,
   "id": "404a5390",
   "metadata": {},
   "outputs": [
    {
     "name": "stdout",
     "output_type": "stream",
     "text": [
      "['Mock', 'Tests']\n"
     ]
    },
    {
     "data": {
      "text/plain": [
       "'END'"
      ]
     },
     "execution_count": 13,
     "metadata": {},
     "output_type": "execute_result"
    }
   ],
   "source": [
    "# Ans. Below is the code to convert a string to a list in Python.\n",
    "\n",
    "str1 = \"Mock Tests\"\n",
    "print(str1.split(\" \"))\n",
    "\n",
    "\n",
    "\"\"\"The split() function separates the given string by the defined delimiter, i.e., space(” “) here. \n",
    "Therefore, Analytics and Vidhya break down into two strings in a list.\"\"\"\n",
    "\n",
    "\"\"\" [check once the Keywords data cleaning.ipynb file]\"\"\"\n",
    "\n",
    "\"\"\"END\"\"\""
   ]
  },
  {
   "cell_type": "markdown",
   "id": "fc19a6c2",
   "metadata": {},
   "source": [
    "Q3. Write a code snippet to reverse a string."
   ]
  },
  {
   "cell_type": "code",
   "execution_count": 18,
   "id": "577e04bc",
   "metadata": {},
   "outputs": [
    {
     "name": "stdout",
     "output_type": "stream",
     "text": [
      "The Original string is: Mock Tests\n",
      "The reversed string is: stseT kcoM\n"
     ]
    },
    {
     "data": {
      "text/plain": [
       "'END'"
      ]
     },
     "execution_count": 18,
     "metadata": {},
     "output_type": "execute_result"
    }
   ],
   "source": [
    "\"\"\"Ans. Here, we have reversed a string without using any in-built function.\"\"\"\n",
    "\n",
    "str1 = \"Mock Tests\"\n",
    "str2 = \"\"\n",
    "for i in str1:\n",
    "    str2 = i + str2\n",
    "\n",
    "print(\"The Original string is:\", str1)\n",
    "print(\"The reversed string is:\", str2)\n",
    "\n",
    "'''The above code picks the first letter, i.e., ‘A’, then adds ‘n’ at the beginning.\n",
    "Further, ‘nA’ is taken as str2, ‘ a’ is added before it, and so on.\n",
    "Then ‘anA’ becomes str2, and the next letter, i.e., ‘l’, is appended at the start of str2 to make it ‘lanA.’\n",
    "This is how the above code works to reverse the string.\n",
    "\n",
    "Output:\n",
    "\n",
    "stseT kcoM'''\n",
    "\n",
    "'''END'''"
   ]
  },
  {
   "cell_type": "markdown",
   "id": "0fa14290",
   "metadata": {},
   "source": [
    "Q4. Write a code snippet to sort a list in Python."
   ]
  },
  {
   "cell_type": "code",
   "execution_count": 22,
   "id": "75eef647",
   "metadata": {},
   "outputs": [
    {
     "name": "stdout",
     "output_type": "stream",
     "text": [
      "[1, 2, 3]\n"
     ]
    }
   ],
   "source": [
    "'''Ans. We can sort a list in Python using the sort() function. The following code will illustrate this:'''\n",
    "\n",
    "'''The below code sort the list using the sort() function.\n",
    "\n",
    "Output:\n",
    "\n",
    "[1, 2, 3]\n",
    "'''\n",
    "\n",
    "my_list = [3,2,1]\n",
    "my_list.sort()\n",
    "print(my_list)"
   ]
  },
  {
   "cell_type": "markdown",
   "id": "2c2394e3",
   "metadata": {},
   "source": [
    "Q5. What is the difference between mutable and immutable?"
   ]
  },
  {
   "cell_type": "code",
   "execution_count": 25,
   "id": "6173eb8d",
   "metadata": {},
   "outputs": [
    {
     "data": {
      "text/plain": [
       "'Task = [Create a set of list and tuples]'"
      ]
     },
     "execution_count": 25,
     "metadata": {},
     "output_type": "execute_result"
    }
   ],
   "source": [
    "'''Ans. Mutable objects: They cannot be updated once defined. e.g., list.\n",
    "Immutable objects: They can be updated when required. e.g., tuples.'''\n",
    "\n",
    "'''Task = [Create a set of list and tuples]'''"
   ]
  },
  {
   "cell_type": "markdown",
   "id": "9df6005e",
   "metadata": {},
   "source": [
    "Q6. How can you delete a file in Python?"
   ]
  },
  {
   "cell_type": "code",
   "execution_count": 27,
   "id": "406a2460",
   "metadata": {},
   "outputs": [],
   "source": [
    "'''Ans. We can delete the file in Python using the os module. \n",
    "The remove() function of the os module is used to delete a file \n",
    "in Python by passing the filename as a parameter. e.g.'''\n",
    "\n",
    "import os\n",
    "os.remove(\"Testing.txt\")"
   ]
  },
  {
   "cell_type": "markdown",
   "id": "44b76f13",
   "metadata": {},
   "source": [
    "Q7. How to access an element of a list?"
   ]
  },
  {
   "cell_type": "code",
   "execution_count": 29,
   "id": "e01091dc",
   "metadata": {},
   "outputs": [
    {
     "data": {
      "text/plain": [
       "'*'"
      ]
     },
     "execution_count": 29,
     "metadata": {},
     "output_type": "execute_result"
    }
   ],
   "source": [
    "'''Ans. The element in a list can be accessed using list_name [index]. For instance:\n",
    "\n",
    "Given a list [1, 2, 3, 4].\n",
    "\n",
    "The indexing of the list starts from 0.\n",
    "\n",
    "The first element of the list can be accessed using list[0], which will print element “1”.\n",
    "\n",
    "The second element can be accessed using list[1] and so on.'''\n",
    "'''*'''"
   ]
  },
  {
   "cell_type": "code",
   "execution_count": 38,
   "id": "58b3856e",
   "metadata": {},
   "outputs": [
    {
     "name": "stdout",
     "output_type": "stream",
     "text": [
      "Fish\n"
     ]
    }
   ],
   "source": [
    "my_list = ['Cat','Dog','Fish','Bull','Mare']\n",
    "\n",
    "# Print a specific item from the list\n",
    "specific_item = my_list[2]  # Index 2 corresponds to the third element\n",
    "print(specific_item)"
   ]
  },
  {
   "cell_type": "markdown",
   "id": "bb43ccc8",
   "metadata": {},
   "source": [
    "Q8. Discuss different ways of deleting an element from a list."
   ]
  },
  {
   "cell_type": "code",
   "execution_count": 45,
   "id": "27c635ca",
   "metadata": {},
   "outputs": [
    {
     "name": "stdout",
     "output_type": "stream",
     "text": [
      "['Cat', 'Dog', 'Fish', 'Mare']\n",
      "['Cat', 'Dog', 'Fish']\n"
     ]
    }
   ],
   "source": [
    "'''Ans. There are two ways in which we can delete elements from the list:\n",
    "\n",
    "1. By using the remove() function\n",
    "The remove () function deletes the mentioned element from the list.'''\n",
    "\n",
    "list_1 = ['Cat','Dog','Fish','Bull','Mare']\n",
    "list_1.remove('Bull')\n",
    "print(list_1)\n",
    "\n",
    "'''\n",
    "2. By using the pop() function\n",
    "\n",
    "Pop() function delete element mentioned at a specific index from the list'''\n",
    "\n",
    "list_1.pop(3)\n",
    "print(list_1)\n",
    "\n"
   ]
  },
  {
   "cell_type": "markdown",
   "id": "ab825bde",
   "metadata": {},
   "source": [
    "Q9. Write a code snippet to delete an entire list."
   ]
  },
  {
   "cell_type": "code",
   "execution_count": 49,
   "id": "3bc982e4",
   "metadata": {},
   "outputs": [
    {
     "data": {
      "text/plain": [
       "'*'"
      ]
     },
     "execution_count": 49,
     "metadata": {},
     "output_type": "execute_result"
    }
   ],
   "source": [
    "'''\n",
    "Ans. We can delete a list in Python using the clear() function. \n",
    "The following code will illustrate this:\n",
    "\n",
    "'''\n",
    "list_1 = ['Cat','Dog','Fish','Bull','Mare']\n",
    "list_1.clear()\n",
    "\n",
    "'''\n",
    "It will delete the entire list.\n",
    "'''\n",
    "\n",
    "'''*'''\n"
   ]
  },
  {
   "cell_type": "markdown",
   "id": "d1bae795",
   "metadata": {},
   "source": [
    "Q10. Write a code snippet to reverse an array."
   ]
  },
  {
   "cell_type": "code",
   "execution_count": 54,
   "id": "0afbacfa",
   "metadata": {},
   "outputs": [
    {
     "name": "stdout",
     "output_type": "stream",
     "text": [
      "['Mare' 'Bull' 'Fish' 'Dog' 'Cat']\n",
      "['Mare' 'Bull' 'Fish' 'Dog' 'Cat']\n"
     ]
    }
   ],
   "source": [
    "'''\n",
    "Ans. The two ways of reversing an array are as follows:\n",
    "\n",
    "1. Using the flip() function\n",
    "\n",
    "'''\n",
    "import numpy as np\n",
    "arr_1 = np.array(['Cat','Dog','Fish','Bull','Mare'])\n",
    "arr_2 = np.flip(arr_1)\n",
    "print(arr_2)\n",
    "\n",
    "\n",
    "'''\n",
    "Ans 2. Without using any function\n",
    "\n",
    "'''\n",
    "import numpy as np\n",
    "arr_1 = np.array(['Cat','Dog','Fish','Bull','Mare'])\n",
    "arr_2 = arr_1[::-1]\n",
    "print(arr_2)\n"
   ]
  }
 ],
 "metadata": {
  "kernelspec": {
   "display_name": "Python 3 (ipykernel)",
   "language": "python",
   "name": "python3"
  },
  "language_info": {
   "codemirror_mode": {
    "name": "ipython",
    "version": 3
   },
   "file_extension": ".py",
   "mimetype": "text/x-python",
   "name": "python",
   "nbconvert_exporter": "python",
   "pygments_lexer": "ipython3",
   "version": "3.11.5"
  },
  "varInspector": {
   "cols": {
    "lenName": 16,
    "lenType": 16,
    "lenVar": 40
   },
   "kernels_config": {
    "python": {
     "delete_cmd_postfix": "",
     "delete_cmd_prefix": "del ",
     "library": "var_list.py",
     "varRefreshCmd": "print(var_dic_list())"
    },
    "r": {
     "delete_cmd_postfix": ") ",
     "delete_cmd_prefix": "rm(",
     "library": "var_list.r",
     "varRefreshCmd": "cat(var_dic_list()) "
    }
   },
   "types_to_exclude": [
    "module",
    "function",
    "builtin_function_or_method",
    "instance",
    "_Feature"
   ],
   "window_display": false
  }
 },
 "nbformat": 4,
 "nbformat_minor": 5
}
