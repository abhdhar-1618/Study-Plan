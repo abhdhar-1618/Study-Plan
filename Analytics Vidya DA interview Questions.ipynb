{
 "cells": [
  {
   "cell_type": "markdown",
   "id": "576441ae",
   "metadata": {},
   "source": [
    "## Website:- [Analytics Vidhya](https://www.analyticsvidhya.com/blog/2022/07/python-coding-interview-questions-for-freshers/)"
   ]
  },
  {
   "cell_type": "markdown",
   "id": "9245c231",
   "metadata": {},
   "source": [
    "Q1. Convert a given string to int using a single line of code."
   ]
  },
  {
   "cell_type": "code",
   "execution_count": 3,
   "id": "cb82fc89",
   "metadata": {},
   "outputs": [
    {
     "name": "stdout",
     "output_type": "stream",
     "text": [
      "5\n"
     ]
    }
   ],
   "source": [
    "# Ans:- We can convert a given string to an integer using a built-in function int(). e.g.-\n",
    "\n",
    "a = '5'\n",
    "print(int(a))\n",
    "\n",
    "# Variable ‘a’ is a string that is now converted to an integer, as shown below:"
   ]
  },
  {
   "cell_type": "markdown",
   "id": "1aa2bf8c",
   "metadata": {},
   "source": [
    "Q2. Write a code snippet to convert a string to a list."
   ]
  },
  {
   "cell_type": "code",
   "execution_count": 13,
   "id": "404a5390",
   "metadata": {},
   "outputs": [
    {
     "name": "stdout",
     "output_type": "stream",
     "text": [
      "['Mock', 'Tests']\n"
     ]
    },
    {
     "data": {
      "text/plain": [
       "'END'"
      ]
     },
     "execution_count": 13,
     "metadata": {},
     "output_type": "execute_result"
    }
   ],
   "source": [
    "# Ans. Below is the code to convert a string to a list in Python.\n",
    "\n",
    "str1 = \"Mock Tests\"\n",
    "print(str1.split(\" \"))\n",
    "\n",
    "\n",
    "\"\"\"The split() function separates the given string by the defined delimiter, i.e., space(” “) here. \n",
    "Therefore, Analytics and Vidhya break down into two strings in a list.\"\"\"\n",
    "\n",
    "\"\"\" [check once the Keywords data cleaning.ipynb file]\"\"\"\n",
    "\n",
    "\"\"\"END\"\"\""
   ]
  },
  {
   "cell_type": "markdown",
   "id": "fc19a6c2",
   "metadata": {},
   "source": [
    "Q3. Write a code snippet to reverse a string."
   ]
  },
  {
   "cell_type": "code",
   "execution_count": 18,
   "id": "577e04bc",
   "metadata": {},
   "outputs": [
    {
     "name": "stdout",
     "output_type": "stream",
     "text": [
      "The Original string is: Mock Tests\n",
      "The reversed string is: stseT kcoM\n"
     ]
    },
    {
     "data": {
      "text/plain": [
       "'END'"
      ]
     },
     "execution_count": 18,
     "metadata": {},
     "output_type": "execute_result"
    }
   ],
   "source": [
    "\"\"\"Ans. Here, we have reversed a string without using any in-built function.\"\"\"\n",
    "\n",
    "str1 = \"Mock Tests\"\n",
    "str2 = \"\"\n",
    "for i in str1:\n",
    "    str2 = i + str2\n",
    "\n",
    "print(\"The Original string is:\", str1)\n",
    "print(\"The reversed string is:\", str2)\n",
    "\n",
    "'''The above code picks the first letter, i.e., ‘A’, then adds ‘n’ at the beginning.\n",
    "Further, ‘nA’ is taken as str2, ‘ a’ is added before it, and so on.\n",
    "Then ‘anA’ becomes str2, and the next letter, i.e., ‘l’, is appended at the start of str2 to make it ‘lanA.’\n",
    "This is how the above code works to reverse the string.\n",
    "\n",
    "Output:\n",
    "\n",
    "stseT kcoM'''\n",
    "\n",
    "'''END'''"
   ]
  },
  {
   "cell_type": "markdown",
   "id": "0fa14290",
   "metadata": {},
   "source": [
    "Q4. Write a code snippet to sort a list in Python."
   ]
  },
  {
   "cell_type": "code",
   "execution_count": 22,
   "id": "75eef647",
   "metadata": {},
   "outputs": [
    {
     "name": "stdout",
     "output_type": "stream",
     "text": [
      "[1, 2, 3]\n"
     ]
    }
   ],
   "source": [
    "'''Ans. We can sort a list in Python using the sort() function. The following code will illustrate this:'''\n",
    "\n",
    "'''The below code sort the list using the sort() function.\n",
    "\n",
    "Output:\n",
    "\n",
    "[1, 2, 3]\n",
    "'''\n",
    "\n",
    "my_list = [3,2,1]\n",
    "my_list.sort()\n",
    "print(my_list)"
   ]
  },
  {
   "cell_type": "markdown",
   "id": "2c2394e3",
   "metadata": {},
   "source": [
    "Q5. What is the difference between mutable and immutable?"
   ]
  },
  {
   "cell_type": "code",
   "execution_count": 25,
   "id": "6173eb8d",
   "metadata": {},
   "outputs": [
    {
     "data": {
      "text/plain": [
       "'Task = [Create a set of list and tuples]'"
      ]
     },
     "execution_count": 25,
     "metadata": {},
     "output_type": "execute_result"
    }
   ],
   "source": [
    "'''Ans. Mutable objects: They cannot be updated once defined. e.g., list.\n",
    "Immutable objects: They can be updated when required. e.g., tuples.'''\n",
    "\n",
    "'''Task = [Create a set of list and tuples]'''"
   ]
  },
  {
   "cell_type": "markdown",
   "id": "9df6005e",
   "metadata": {},
   "source": [
    "Q6. How can you delete a file in Python?"
   ]
  },
  {
   "cell_type": "code",
   "execution_count": 27,
   "id": "406a2460",
   "metadata": {},
   "outputs": [],
   "source": [
    "'''Ans. We can delete the file in Python using the os module. \n",
    "The remove() function of the os module is used to delete a file \n",
    "in Python by passing the filename as a parameter. e.g.'''\n",
    "\n",
    "import os\n",
    "os.remove(\"Testing.txt\")"
   ]
  },
  {
   "cell_type": "markdown",
   "id": "44b76f13",
   "metadata": {},
   "source": [
    "Q7. How to access an element of a list?"
   ]
  },
  {
   "cell_type": "code",
   "execution_count": 29,
   "id": "e01091dc",
   "metadata": {},
   "outputs": [
    {
     "data": {
      "text/plain": [
       "'*'"
      ]
     },
     "execution_count": 29,
     "metadata": {},
     "output_type": "execute_result"
    }
   ],
   "source": [
    "'''Ans. The element in a list can be accessed using list_name [index]. For instance:\n",
    "\n",
    "Given a list [1, 2, 3, 4].\n",
    "\n",
    "The indexing of the list starts from 0.\n",
    "\n",
    "The first element of the list can be accessed using list[0], which will print element “1”.\n",
    "\n",
    "The second element can be accessed using list[1] and so on.'''\n",
    "'''*'''"
   ]
  },
  {
   "cell_type": "code",
   "execution_count": 38,
   "id": "58b3856e",
   "metadata": {},
   "outputs": [
    {
     "name": "stdout",
     "output_type": "stream",
     "text": [
      "Fish\n"
     ]
    }
   ],
   "source": [
    "my_list = ['Cat','Dog','Fish','Bull','Mare']\n",
    "\n",
    "# Print a specific item from the list\n",
    "specific_item = my_list[2]  # Index 2 corresponds to the third element\n",
    "print(specific_item)"
   ]
  },
  {
   "cell_type": "markdown",
   "id": "bb43ccc8",
   "metadata": {},
   "source": [
    "Q8. Discuss different ways of deleting an element from a list."
   ]
  },
  {
   "cell_type": "code",
   "execution_count": 45,
   "id": "27c635ca",
   "metadata": {},
   "outputs": [
    {
     "name": "stdout",
     "output_type": "stream",
     "text": [
      "['Cat', 'Dog', 'Fish', 'Mare']\n",
      "['Cat', 'Dog', 'Fish']\n"
     ]
    }
   ],
   "source": [
    "'''Ans. There are two ways in which we can delete elements from the list:\n",
    "\n",
    "1. By using the remove() function\n",
    "The remove () function deletes the mentioned element from the list.'''\n",
    "\n",
    "list_1 = ['Cat','Dog','Fish','Bull','Mare']\n",
    "list_1.remove('Bull')\n",
    "print(list_1)\n",
    "\n",
    "'''\n",
    "2. By using the pop() function\n",
    "\n",
    "Pop() function delete element mentioned at a specific index from the list'''\n",
    "\n",
    "list_1.pop(3)\n",
    "print(list_1)\n",
    "\n"
   ]
  },
  {
   "cell_type": "markdown",
   "id": "ab825bde",
   "metadata": {},
   "source": [
    "Q9. Write a code snippet to delete an entire list."
   ]
  },
  {
   "cell_type": "code",
   "execution_count": 49,
   "id": "3bc982e4",
   "metadata": {},
   "outputs": [
    {
     "data": {
      "text/plain": [
       "'*'"
      ]
     },
     "execution_count": 49,
     "metadata": {},
     "output_type": "execute_result"
    }
   ],
   "source": [
    "'''\n",
    "Ans. We can delete a list in Python using the clear() function. \n",
    "The following code will illustrate this:\n",
    "\n",
    "'''\n",
    "list_1 = ['Cat','Dog','Fish','Bull','Mare']\n",
    "list_1.clear()\n",
    "\n",
    "'''\n",
    "It will delete the entire list.\n",
    "'''\n",
    "\n",
    "'''*'''\n"
   ]
  },
  {
   "cell_type": "markdown",
   "id": "d1bae795",
   "metadata": {},
   "source": [
    "Q10. Write a code snippet to reverse an array."
   ]
  },
  {
   "cell_type": "code",
   "execution_count": 54,
   "id": "0afbacfa",
   "metadata": {},
   "outputs": [
    {
     "name": "stdout",
     "output_type": "stream",
     "text": [
      "['Mare' 'Bull' 'Fish' 'Dog' 'Cat']\n",
      "['Mare' 'Bull' 'Fish' 'Dog' 'Cat']\n"
     ]
    }
   ],
   "source": [
    "'''\n",
    "Ans. The two ways of reversing an array are as follows:\n",
    "\n",
    "1. Using the flip() function\n",
    "\n",
    "'''\n",
    "import numpy as np\n",
    "arr_1 = np.array(['Cat','Dog','Fish','Bull','Mare'])\n",
    "arr_2 = np.flip(arr_1)\n",
    "print(arr_2)\n",
    "\n",
    "\n",
    "'''\n",
    "Ans 2. Without using any function\n",
    "\n",
    "'''\n",
    "import numpy as np\n",
    "arr_1 = np.array(['Cat','Dog','Fish','Bull','Mare'])\n",
    "arr_2 = arr_1[::-1]\n",
    "print(arr_2)\n"
   ]
  },
  {
   "cell_type": "markdown",
   "id": "00f7796a",
   "metadata": {},
   "source": [
    "Q11. Write a code snippet to get an element, delete an element, and update an element in an array."
   ]
  },
  {
   "cell_type": "code",
   "execution_count": 10,
   "id": "2268301d",
   "metadata": {},
   "outputs": [
    {
     "name": "stdout",
     "output_type": "stream",
     "text": [
      "Bull\n",
      "['Cat' 'Dog' 'Fish' 'Mare']\n",
      "['Cat', 'Dog', 'Fish', 'Bull', 'Ox']\n"
     ]
    }
   ],
   "source": [
    "'''Ans. ACCESS: We can access an element of an array \n",
    "by using array_name[index].\n",
    "\n",
    "print(arr[index])\n",
    "\n",
    "'''\n",
    "arr = (['Cat','Dog','Fish','Bull','Mare'])\n",
    "print(arr[3])\n",
    "\n",
    "'''DELETE: We can delete the element of an array \n",
    "using the delete() function.'''\n",
    "\n",
    "arr_1 = (['Cat','Dog','Fish','Bull','Mare'])\n",
    "import numpy as np\n",
    "x = np.delete(arr_1,3)\n",
    "print(x)\n",
    "\n",
    "\n",
    "'''\n",
    "UPDATE: We can update the element of an array using the below syntax:\n",
    "\n",
    "array_name[index] = element\n",
    "\n",
    "'''\n",
    "\n",
    "arr_2 = (['Cat','Dog','Fish','Bull','Mare'])\n",
    "\n",
    "arr_2[4] = 'Ox'\n",
    "\n",
    "print(arr_2)\n",
    "\n"
   ]
  },
  {
   "cell_type": "markdown",
   "id": "3148cfec",
   "metadata": {},
   "source": [
    "Q12. Write a code snippet to concatenate lists."
   ]
  },
  {
   "cell_type": "code",
   "execution_count": 12,
   "id": "99f127f9",
   "metadata": {},
   "outputs": [
    {
     "name": "stdout",
     "output_type": "stream",
     "text": [
      "['We', 'a ', 'writing', 'blog']\n"
     ]
    }
   ],
   "source": [
    "# List1= [“W”, “a”, “w”,”b”]\n",
    "# List2 = [“e”, “ “,”riting”,”log”]\n",
    "List1= ['W', 'a', 'w','b'] \n",
    "List2 = ['e', ' ','riting','log'] \n",
    "List3 = [x + y for x, y in zip(List1, List2)] \n",
    "print(List3)\n",
    "\n"
   ]
  },
  {
   "cell_type": "markdown",
   "id": "ccbdda85",
   "metadata": {},
   "source": [
    "Q13. Write a code snippet to generate the square of every element of a list."
   ]
  },
  {
   "cell_type": "code",
   "execution_count": 13,
   "id": "c99c2958",
   "metadata": {},
   "outputs": [
    {
     "name": "stdout",
     "output_type": "stream",
     "text": [
      "[196, 256, 324, 400]\n"
     ]
    }
   ],
   "source": [
    "'''\n",
    "Ans:- First, create an empty list. We used a for loop to iterate through\n",
    "every element of a list and multiply the element by itself to generate a \n",
    "square of it. Then, append it to the newly generated list.\n",
    "\n",
    "'''\n",
    "\n",
    "list = [14,16,18,20]\n",
    "list_final = []\n",
    "for x in list:\n",
    "    list_final.append(x * x)\n",
    "print(list_final)\n"
   ]
  },
  {
   "cell_type": "markdown",
   "id": "998c6987",
   "metadata": {},
   "source": [
    "Q14. What is the difference between range and xrange?"
   ]
  },
  {
   "cell_type": "markdown",
   "id": "f699b8fc",
   "metadata": {},
   "source": [
    "Ans: In Python 2, range(), returns a list, and xrange() returns an iterator. But in python 3, xrange() no longer exists while range() returns an interator."
   ]
  },
  {
   "cell_type": "code",
   "execution_count": 22,
   "id": "2dee8812",
   "metadata": {},
   "outputs": [
    {
     "name": "stdout",
     "output_type": "stream",
     "text": [
      "range(0, 5)\n"
     ]
    },
    {
     "data": {
      "text/plain": [
       "'*'"
      ]
     },
     "execution_count": 22,
     "metadata": {},
     "output_type": "execute_result"
    }
   ],
   "source": [
    "# Ecplained with an example\n",
    "\n",
    "'''In Python 2, there are two functions for generating a sequence of numbers: range and xrange. Both are used to create lists of numbers, but there is a key difference between them.\n",
    "\n",
    "1. range:\n",
    "\n",
    "It returns a list containing an arithmetic sequence of numbers.\n",
    "It creates the entire list in memory before returning it.\n",
    "It is available in Python 2 and Python 3.'''\n",
    "\n",
    "numbers_1 = range(5)\n",
    "print(numbers_1)  # Output: [0, 1, 2, 3, 4]\n",
    "\n",
    "'''2. xrange:\n",
    "\n",
    "It returns an xrange object, which is similar to a generator. \n",
    "It generates numbers on the fly as you iterate over it.\n",
    "It doesn't create the whole list in memory; it generates \n",
    "each number on demand.\\It is specific to Python 2 and was removed in Python 3. \n",
    "In Python 3, range itself behaves like xrange from Python 2.'''\n",
    "\n",
    "# numbers_2 = xrange(5)\n",
    "# print(numbers_2)  # Output: xrange(5)\n",
    "\n",
    "'''\n",
    "In Python 3, range has the behavior of xrange from Python 2, \n",
    "meaning it is a generator-like object that generates numbers on demand. \n",
    "The need for xrange was removed, and range is now more memory-efficient.\n",
    "In Python 2, if you are dealing with a large range of numbers and memory \n",
    "is a concern, you might prefer to use xrange. However, in Python 3, \n",
    "you can use range without worrying about excessive memory usage.\n",
    "\n",
    "'''\n",
    "'''*'''\n"
   ]
  },
  {
   "cell_type": "markdown",
   "id": "f26e0f49",
   "metadata": {},
   "source": [
    "Q15. What is pickling and unpickling in Python?"
   ]
  },
  {
   "cell_type": "code",
   "execution_count": null,
   "id": "a9046776",
   "metadata": {},
   "outputs": [],
   "source": [
    "'''Ans. Pickling is converting a Python object (list, dict, function, etc.) \n",
    "to a byte stream(0s and 1s), and unpickling is converting the byte stream \n",
    "back to a python object. It is used to transfer and store various \n",
    "Python objects. We can use pickle or dill Python packages for this.'''\n",
    "\n"
   ]
  },
  {
   "cell_type": "markdown",
   "id": "d95804c5",
   "metadata": {},
   "source": [
    "Q18. Which is faster, Python list or Numpy arrays, and why?"
   ]
  },
  {
   "cell_type": "markdown",
   "id": "572190f3",
   "metadata": {},
   "source": [
    "In simple terms, NumPy arrays are generally faster than Python lists for numerical operations. Here's why:\n",
    "\n",
    "Storage:\n",
    "\n",
    "NumPy arrays are more compact in memory compared to Python lists. This efficiency is particularly important when dealing with large datasets.\n",
    "Python lists are more flexible because they can contain different types of elements, but this flexibility comes at a cost in terms of memory.\n",
    "Vectorized Operations:\n",
    "\n",
    "NumPy allows for vectorized operations, meaning you can apply operations to entire arrays at once without using explicit loops. This is more efficient than iterating through elements in a Python list.\n",
    "NumPy operations are implemented in C, which is faster than Python, and they are optimized for performance.\n",
    "Data Type:\n",
    "\n",
    "NumPy arrays are homogeneous, meaning all elements have the same data type. This allows for more efficient storage and faster operations.\n",
    "Python lists can contain elements of different data types, which can result in additional overhead during operations.\n",
    "Parallelization:\n",
    "\n",
    "NumPy operations can take advantage of parallelization, making use of multiple cores in modern processors for faster computation.\n",
    "Python lists, especially when using explicit loops, may not be as easily parallelized.\n",
    "In summary, if you're working with numerical data and need to perform operations efficiently, NumPy arrays are a better choice. However, for general-purpose tasks or when dealing with a variety of data types, Python lists might be more convenient. The trade-off is between flexibility (Python lists) and performance (NumPy arrays)."
   ]
  },
  {
   "cell_type": "markdown",
   "id": "941b8ff1",
   "metadata": {},
   "source": [
    "Q19. What is the difference between a Python list and a tuple?"
   ]
  },
  {
   "cell_type": "code",
   "execution_count": 29,
   "id": "2dc48780",
   "metadata": {},
   "outputs": [
    {
     "name": "stdout",
     "output_type": "stream",
     "text": [
      "[1, 2, 3, 4]\n"
     ]
    }
   ],
   "source": [
    "'''Python lists and tuples are both used to store collections of items, but they have some key differences:\n",
    "\n",
    "Mutability:\n",
    "\n",
    "List: Lists are mutable, meaning you can change their content (add, remove, or modify elements) after the list is created.\n",
    "Tuple: Tuples are immutable, meaning once a tuple is created, you cannot change its content. You can't add, remove, or modify elements.\n",
    "Syntax:\n",
    "\n",
    "List: Defined using square brackets [].'''\n",
    "\n",
    "my_list = [1, 2, 3]\n",
    "my_list\n",
    "\n",
    "'''Tuple: Defined using parentheses ().'''\n",
    "\n",
    "my_tuple = (1, 2, 3)\n",
    "my_tuple\n",
    "\n",
    "\n",
    "'''Performance:\n",
    "\n",
    "List: Lists might have a slight performance overhead due to their mutability. This is important if you need to modify the collection frequently.\n",
    "Tuple: Tuples are generally more memory-efficient and have better performance for tasks that don't involve changing the collection.\n",
    "Use Cases:\n",
    "\n",
    "List: Use lists when you have a collection of items that might need to be modified, and you want to use methods like append() or remove().\n",
    "Tuple: Use tuples when you want an immutable collection, especially for things like keys in dictionaries or elements in sets. Tuples are also used in situations where data integrity is important and should not be accidentally modified.'''\n",
    "\n",
    "# List\n",
    "my_list = [1, 2, 3]\n",
    "my_list.append(4)\n",
    "print(my_list)  # Output: [1, 2, 3, 4]\n",
    "\n",
    "# Tuple\n",
    "my_tuple = (1, 2, 3)\n",
    "# The following line would raise an error:\n",
    "# my_tuple.append(4)\n",
    "\n",
    "\n",
    "'''In summary, choose between lists and tuples based on whether you need mutability and the specific requirements of your task. If mutability is not necessary, and you want to ensure data integrity, use tuples. If you need a collection that can be modified, use lists.'''\n",
    "\n",
    "\n"
   ]
  },
  {
   "cell_type": "markdown",
   "id": "e618ee4e",
   "metadata": {},
   "source": [
    "Q20. What are Python sets? Explain some of the properties of sets."
   ]
  },
  {
   "cell_type": "code",
   "execution_count": 31,
   "id": "6fa429e1",
   "metadata": {},
   "outputs": [],
   "source": [
    "'''Python Sets:\n",
    "\n",
    "A set in Python is an unordered collection of unique elements. It is defined by enclosing the elements in curly braces {}. Sets are used to perform mathematical set operations like union, intersection, difference, etc.\n",
    "\n",
    "Properties of Sets:\n",
    "\n",
    "Uniqueness:\n",
    "\n",
    "Sets do not allow duplicate elements. If you try to add an element that already exists in the set, it won't be added.\n",
    "Unordered:\n",
    "\n",
    "The elements in a set are not stored in any specific order. Therefore, you cannot access elements using indices.\n",
    "Mutable:\n",
    "\n",
    "Sets are mutable, meaning you can add and remove elements from the set after it is created.\n",
    "No Indexing:\n",
    "\n",
    "Since sets are unordered, they do not support indexing. You cannot access elements by their position.\n",
    "Mathematical Operations:\n",
    "\n",
    "Sets support various mathematical operations like union (|), intersection (&), difference (-), and symmetric difference (^).\n",
    "Membership Testing:\n",
    "\n",
    "You can easily test for membership in a set using the in operator.\n",
    "'''\n",
    "'''Sets are useful when dealing with situations where you need to perform operations involving distinct elements, such as finding unique items or checking for common elements between two collections.'''\n",
    "\n",
    "\n",
    "\n",
    "# Example:\n",
    "\n",
    "# Creating a set\n",
    "my_set = {1, 2, 3, 4, 5}\n",
    "\n",
    "# Adding elements\n",
    "my_set.add(6)\n",
    "\n",
    "# Attempting to add a duplicate element\n",
    "my_set.add(5)  # No effect, as 5 already exists\n",
    "\n",
    "# Removing an element\n",
    "my_set.remove(3)\n",
    "\n",
    "# Set operations\n",
    "set1 = {1, 2, 3, 4}\n",
    "set2 = {3, 4, 5, 6}\n",
    "\n",
    "# Union\n",
    "union_set = set1 | set2  # {1, 2, 3, 4, 5, 6}\n",
    "\n",
    "# Intersection\n",
    "intersection_set = set1 & set2  # {3, 4}\n",
    "\n",
    "# Difference\n",
    "difference_set = set1 - set2  # {1, 2}\n",
    "\n",
    "# Symmetric Difference\n",
    "symmetric_difference_set = set1 ^ set2  # {1, 2, 5, 6}\n",
    "\n",
    "\n",
    "\n",
    "\n",
    "\n"
   ]
  },
  {
   "cell_type": "markdown",
   "id": "3bcc0753",
   "metadata": {},
   "source": [
    "Q51. Write a program to check whether a number is prime or not."
   ]
  },
  {
   "cell_type": "code",
   "execution_count": 36,
   "id": "3acd8ff7",
   "metadata": {},
   "outputs": [
    {
     "name": "stdout",
     "output_type": "stream",
     "text": [
      "2 is a prime number.\n",
      "3 is a prime number.\n",
      "5 is a prime number.\n",
      "7 is a prime number.\n",
      "11 is a prime number.\n",
      "13 is a prime number.\n",
      "16 is not a prime number.\n",
      "233 is a prime number.\n"
     ]
    }
   ],
   "source": [
    "from math import sqrt\n",
    "\n",
    "def prime_or_not(number):\n",
    "    for i in range(2, int(sqrt(number)) + 1):\n",
    "        if number % i == 0:\n",
    "            return 0  # Not a prime number\n",
    "    return 1  # Prime number\n",
    "\n",
    "# Test cases\n",
    "test_numbers = [2, 3, 5, 7, 11, 13, 16, 233]\n",
    "\n",
    "for number in test_numbers:\n",
    "    result = prime_or_not(number)\n",
    "    if result == 1:\n",
    "        print(f\"{number} is a prime number.\")\n",
    "    else:\n",
    "        print(f\"{number} is not a prime number.\")"
   ]
  }
 ],
 "metadata": {
  "kernelspec": {
   "display_name": "Python 3 (ipykernel)",
   "language": "python",
   "name": "python3"
  },
  "language_info": {
   "codemirror_mode": {
    "name": "ipython",
    "version": 3
   },
   "file_extension": ".py",
   "mimetype": "text/x-python",
   "name": "python",
   "nbconvert_exporter": "python",
   "pygments_lexer": "ipython3",
   "version": "3.11.5"
  },
  "varInspector": {
   "cols": {
    "lenName": 16,
    "lenType": 16,
    "lenVar": 40
   },
   "kernels_config": {
    "python": {
     "delete_cmd_postfix": "",
     "delete_cmd_prefix": "del ",
     "library": "var_list.py",
     "varRefreshCmd": "print(var_dic_list())"
    },
    "r": {
     "delete_cmd_postfix": ") ",
     "delete_cmd_prefix": "rm(",
     "library": "var_list.r",
     "varRefreshCmd": "cat(var_dic_list()) "
    }
   },
   "types_to_exclude": [
    "module",
    "function",
    "builtin_function_or_method",
    "instance",
    "_Feature"
   ],
   "window_display": false
  }
 },
 "nbformat": 4,
 "nbformat_minor": 5
}
